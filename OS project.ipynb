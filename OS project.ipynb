{
 "cells": [
  {
   "cell_type": "code",
   "execution_count": 1,
   "metadata": {},
   "outputs": [],
   "source": [
    "import threading\n",
    "import time"
   ]
  },
  {
   "cell_type": "code",
   "execution_count": 2,
   "metadata": {},
   "outputs": [],
   "source": [
    "capacity = 10\n",
    "buffer = [-1 for i in range(capacity)]\n",
    "IN = 0\n",
    "out = 0"
   ]
  },
  {
   "cell_type": "code",
   "execution_count": 3,
   "metadata": {},
   "outputs": [],
   "source": [
    "mutex = threading.Semaphore()\n",
    "empty = threading.Semaphore(capacity)\n",
    "full = threading.Semaphore(0)"
   ]
  },
  {
   "cell_type": "code",
   "execution_count": 12,
   "metadata": {},
   "outputs": [],
   "source": [
    "# Producer Thread\n",
    "class Producer(threading.Thread):\n",
    "  def run(self):\n",
    "     \n",
    "    global capacity, buffer, IN, out\n",
    "    global mutex, empty, full\n",
    "     \n",
    "    items_produced = 0\n",
    "    counter = 0\n",
    "     \n",
    "    while items_produced < 20:\n",
    "      empty.acquire()\n",
    "      mutex.acquire()\n",
    "       \n",
    "      counter += 1\n",
    "      buffer[IN] = counter\n",
    "      IN = (IN + 1) % capacity\n",
    "      print(\"Producer produced : \", counter)\n",
    "       \n",
    "      mutex.release()\n",
    "      full.release()\n",
    "       \n",
    "      time.sleep(2.5)\n",
    "       \n",
    "      items_produced += 1"
   ]
  },
  {
   "cell_type": "code",
   "execution_count": 13,
   "metadata": {},
   "outputs": [],
   "source": [
    "# Consumer Thread\n",
    "class Consumer(threading.Thread):\n",
    "  def run(self):\n",
    "     \n",
    "    global capacity, buffer, IN, out, counter\n",
    "    global mutex, empty, full\n",
    "     \n",
    "    items_consumed = 0\n",
    "     \n",
    "    while items_consumed < 20:\n",
    "      full.acquire()\n",
    "      mutex.acquire()\n",
    "       \n",
    "      item = buffer[out]\n",
    "      out = (out + 1) % capacity\n",
    "      print(\"Consumer consumed : \", item)\n",
    "       \n",
    "      mutex.release()\n",
    "      empty.release()      \n",
    "       \n",
    "      time.sleep(1)\n",
    "       \n",
    "      items_consumed += 1"
   ]
  },
  {
   "cell_type": "code",
   "execution_count": 14,
   "metadata": {},
   "outputs": [],
   "source": [
    "# Creating Producer & Consumer Threads\n",
    "producer = Producer()\n",
    "consumer = Consumer()"
   ]
  },
  {
   "cell_type": "code",
   "execution_count": 15,
   "metadata": {},
   "outputs": [
    {
     "name": "stdout",
     "output_type": "stream",
     "text": [
      "Producer produced :  1\n",
      "Consumer consumed :  1\n",
      "Producer produced :  2\n",
      "Consumer consumed :  2\n",
      "Producer produced :  3\n",
      "Consumer consumed :  3\n",
      "Producer produced :  4\n",
      "Consumer consumed :  4\n",
      "Producer produced :  5\n",
      "Consumer consumed :  5\n",
      "Producer produced :  6\n",
      "Consumer consumed :  6\n",
      "Producer produced :  7\n",
      "Consumer consumed :  7\n",
      "Producer produced :  8\n",
      "Consumer consumed :  8\n",
      "Producer produced :  9\n",
      "Consumer consumed :  9\n",
      "Producer produced :  10\n",
      "Consumer consumed :  10\n",
      "Producer produced :  11\n",
      "Consumer consumed :  11\n",
      "Producer produced :  12\n",
      "Consumer consumed :  12\n",
      "Producer produced :  13\n",
      "Consumer consumed :  13\n",
      "Producer produced :  14\n",
      "Consumer consumed :  14\n",
      "Producer produced :  15\n",
      "Consumer consumed :  15\n",
      "Producer produced :  16\n",
      "Consumer consumed :  16\n",
      "Producer produced :  17\n",
      "Consumer consumed :  17\n",
      "Producer produced :  18\n",
      "Consumer consumed :  18\n",
      "Producer produced :  19\n",
      "Consumer consumed :  19\n",
      "Producer produced :  20\n",
      "Consumer consumed :  20\n"
     ]
    }
   ],
   "source": [
    "consumer.start()\n",
    "producer.start()\n",
    " \n",
    "# Wait\n",
    "producer.join()\n",
    "consumer.join()"
   ]
  },
  {
   "cell_type": "code",
   "execution_count": null,
   "metadata": {},
   "outputs": [],
   "source": []
  }
 ],
 "metadata": {
  "kernelspec": {
   "display_name": "Python 3",
   "language": "python",
   "name": "python3"
  },
  "language_info": {
   "codemirror_mode": {
    "name": "ipython",
    "version": 3
   },
   "file_extension": ".py",
   "mimetype": "text/x-python",
   "name": "python",
   "nbconvert_exporter": "python",
   "pygments_lexer": "ipython3",
   "version": "3.8.5"
  }
 },
 "nbformat": 4,
 "nbformat_minor": 4
}
